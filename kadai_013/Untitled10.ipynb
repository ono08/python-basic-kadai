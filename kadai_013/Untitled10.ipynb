{
  "nbformat": 4,
  "nbformat_minor": 0,
  "metadata": {
    "colab": {
      "provenance": []
    },
    "kernelspec": {
      "name": "python3",
      "display_name": "Python 3"
    },
    "language_info": {
      "name": "python"
    }
  },
  "cells": [
    {
      "cell_type": "code",
      "execution_count": 1,
      "metadata": {
        "colab": {
          "base_uri": "https://localhost:8080/"
        },
        "id": "oWAvtMFPF6bS",
        "outputId": "31fffa98-52d9-4cef-84b4-88cf673060b0"
      },
      "outputs": [
        {
          "output_type": "stream",
          "name": "stdout",
          "text": [
            "税込金額は 121.0 円です\n"
          ]
        }
      ],
      "source": [
        "# 商品価格と税率をもとに税込金額を計算する関数\n",
        "def calc_tax(price, tax_rate):\n",
        "    total = price + (price * tax_rate / 100)\n",
        "    return total\n",
        "\n",
        "# 例：商品の価格が110円、消費税率が10%\n",
        "result = calc_tax(110, 10)\n",
        "\n",
        "# 計算結果を表示\n",
        "print(f\"税込金額は {result} 円です\")\n"
      ]
    }
  ]
}