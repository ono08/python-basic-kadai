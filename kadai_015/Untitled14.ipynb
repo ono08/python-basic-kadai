{
  "nbformat": 4,
  "nbformat_minor": 0,
  "metadata": {
    "colab": {
      "provenance": []
    },
    "kernelspec": {
      "name": "python3",
      "display_name": "Python 3"
    },
    "language_info": {
      "name": "python"
    }
  },
  "cells": [
    {
      "cell_type": "code",
      "execution_count": 1,
      "metadata": {
        "id": "erpwj_KLSK_j",
        "outputId": "275c5121-86f5-4908-868e-1d1d3630a05f",
        "colab": {
          "base_uri": "https://localhost:8080/"
        }
      },
      "outputs": [
        {
          "output_type": "stream",
          "name": "stdout",
          "text": [
            "名前: 田中太郎\n",
            "年齢: 30歳\n"
          ]
        }
      ],
      "source": [
        "class Human:\n",
        "    def __init__(self, name, age):\n",
        "        self.name = name\n",
        "        self.age = age\n",
        "\n",
        "    def printinfo(self):\n",
        "        print(f\"名前: {self.name}\")\n",
        "        print(f\"年齢: {self.age}歳\")\n",
        "\n",
        "# インスタンスを作成して使う\n",
        "person = Human(\"田中太郎\", 30)\n",
        "person.printinfo()\n"
      ]
    }
  ]
}