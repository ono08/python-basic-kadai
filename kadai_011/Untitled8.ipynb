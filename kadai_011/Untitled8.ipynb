{
  "nbformat": 4,
  "nbformat_minor": 0,
  "metadata": {
    "colab": {
      "provenance": []
    },
    "kernelspec": {
      "name": "python3",
      "display_name": "Python 3"
    },
    "language_info": {
      "name": "python"
    }
  },
  "cells": [
    {
      "cell_type": "code",
      "execution_count": 1,
      "metadata": {
        "colab": {
          "base_uri": "https://localhost:8080/"
        },
        "id": "ql9zeE0fk-Yh",
        "outputId": "727b89f0-e4a5-4e66-bbca-84b4da7291e8"
      },
      "outputs": [
        {
          "output_type": "stream",
          "name": "stdout",
          "text": [
            "1水\n",
            "2金\n",
            "3地\n",
            "4火\n",
            "5木\n",
            "6土\n",
            "7天\n",
            "8海\n",
            "9冥\n",
            "10水\n",
            "11金\n",
            "12地\n",
            "13火\n",
            "14木\n",
            "15土\n",
            "16天\n",
            "17海\n",
            "18冥\n"
          ]
        }
      ],
      "source": [
        "array = [\"水\", \"金\", \"地\", \"火\", \"木\", \"土\", \"天\", \"海\", \"冥\"]\n",
        "\n",
        "# 2周分（リストを2回繰り返す）\n",
        "for i in range(18):\n",
        "    print(f\"{i+1}{array[i % len(array)]}\")\n"
      ]
    },
    {
      "cell_type": "code",
      "source": [
        "array = [\"水\", \"金\", \"地\", \"火\", \"木\", \"土\", \"天\", \"海\", \"冥\"]\n",
        "\n",
        "i = 0\n",
        "while i < 18:\n",
        "    print(f\"{i+1}{array[i % len(array)]}\")\n",
        "    i += 1\n"
      ],
      "metadata": {
        "colab": {
          "base_uri": "https://localhost:8080/"
        },
        "id": "abVn6K_YoyfO",
        "outputId": "46dd4d98-3dbf-477c-ed36-9f827b2b1a45"
      },
      "execution_count": 2,
      "outputs": [
        {
          "output_type": "stream",
          "name": "stdout",
          "text": [
            "1水\n",
            "2金\n",
            "3地\n",
            "4火\n",
            "5木\n",
            "6土\n",
            "7天\n",
            "8海\n",
            "9冥\n",
            "10水\n",
            "11金\n",
            "12地\n",
            "13火\n",
            "14木\n",
            "15土\n",
            "16天\n",
            "17海\n",
            "18冥\n"
          ]
        }
      ]
    }
  ]
}