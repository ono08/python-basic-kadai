{
  "nbformat": 4,
  "nbformat_minor": 0,
  "metadata": {
    "colab": {
      "provenance": []
    },
    "kernelspec": {
      "name": "python3",
      "display_name": "Python 3"
    },
    "language_info": {
      "name": "python"
    }
  },
  "cells": [
    {
      "cell_type": "code",
      "execution_count": null,
      "metadata": {
        "id": "ksFlhhe9YKZB"
      },
      "outputs": [],
      "source": [
        "# Humanクラスの定義\n",
        "class Human:\n",
        "    def __init__(self, name, age):\n",
        "        self.name = name\n",
        "        self.age = age\n",
        "\n",
        "    # 年齢チェックメソッド\n",
        "    def check_adult(self):\n",
        "        if self.age >= 20:\n",
        "            print(f\"{self.name}（{self.age}歳）は大人です。\")\n",
        "        else:\n",
        "            print(f\"{self.name}（{self.age}歳）は大人ではありません。\")\n",
        "\n",
        "# インスタンスを複数生成してリストに追加\n",
        "humans = [\n",
        "    Human(\"太郎\", 18),\n",
        "    Human(\"花子\", 25),\n",
        "    Human(\"次郎\", 20),\n",
        "    Human(\"三郎\", 15)\n",
        "]\n",
        "\n",
        "# リストの要素数分だけcheck_adultメソッドを呼び出し\n",
        "for human in humans:\n",
        "    human.check_adult()\n"
      ]
    }
  ]
}