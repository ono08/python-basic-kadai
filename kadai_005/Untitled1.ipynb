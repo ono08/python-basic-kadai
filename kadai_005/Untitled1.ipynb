{
  "nbformat": 4,
  "nbformat_minor": 0,
  "metadata": {
    "colab": {
      "provenance": []
    },
    "kernelspec": {
      "name": "python3",
      "display_name": "Python 3"
    },
    "language_info": {
      "name": "python"
    }
  },
  "cells": [
    {
      "cell_type": "code",
      "source": [
        "# 台形の寸法（単位：cm）\n",
        "top = 10       # 上辺\n",
        "bottom = 20    # 下辺\n",
        "height = 5     # 高さ\n",
        "\n",
        "# 面積を計算（公式：（上辺 + 下辺）× 高さ ÷ 2）\n",
        "area = (top + bottom) * height / 2\n",
        "\n",
        "# 結果を「◯◯㎠」の形式で出力\n",
        "print(f\"{area}㎠\")\n"
      ],
      "metadata": {
        "colab": {
          "base_uri": "https://localhost:8080/"
        },
        "id": "QPBleFgbJ23E",
        "outputId": "ff62eb1c-430d-46c1-bee0-2abcdec29445"
      },
      "execution_count": 2,
      "outputs": [
        {
          "output_type": "stream",
          "name": "stdout",
          "text": [
            "75.0㎠\n"
          ]
        }
      ]
    }
  ]
}